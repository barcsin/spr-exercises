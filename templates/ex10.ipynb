{
  "nbformat": 4,
  "nbformat_minor": 0,
  "metadata": {
    "colab": {
      "name": "ex10.ipynb",
      "provenance": []
    },
    "kernelspec": {
      "name": "python3",
      "display_name": "Python 3"
    },
    "language_info": {
      "name": "python"
    }
  },
  "cells": [
    {
      "cell_type": "code",
      "metadata": {
        "id": "_PNTOH04mUdS"
      },
      "source": [
        "import numpy as np\n",
        "import matplotlib.pyplot as plt\n",
        "from PIL import Image"
      ],
      "execution_count": null,
      "outputs": []
    },
    {
      "cell_type": "markdown",
      "metadata": {
        "id": "zq1C8hbYmohH"
      },
      "source": [
        "# $\\star$ $\\star$ Question 1:\n",
        "Implement the message passing method in the disparity estimation setting. Each pixel can take 16 labels (disparities in the Tsukuba pair range from 0 to 15). \n",
        "\n",
        "\n",
        "For the unary cost take the exponential of the Euclidean distance between the pixel colors in the two images. For each pixel in the left image, you must compute 16 costs corresponding to the 16 disparity options. \n",
        "\n",
        "Consider the image as an undirected graph, where all pixels are connected only to their direct left and right neighbor. For the pairwise potential use the Potts model (0 cost if the disparity is the same, v else).\n",
        "\n",
        "Run the message passing algorithm to find the solution with the highest probability. Visualize this result and play with the parameter v"
      ]
    },
    {
      "cell_type": "code",
      "metadata": {
        "id": "YGUR5WCGmo7W"
      },
      "source": [
        ""
      ],
      "execution_count": null,
      "outputs": []
    },
    {
      "cell_type": "markdown",
      "metadata": {
        "id": "xQeXUqEempRO"
      },
      "source": [
        "# $\\star$ $\\star$ $\\star$ Question 2: \n",
        "\n",
        "Run loopy belief propagation after adding pairwise potentials to vertical neighbors.\n",
        "\n",
        "Visualize also intermediate results every few iterations. \n",
        "\n",
        "Does the process converge to a stable solution?"
      ]
    },
    {
      "cell_type": "code",
      "metadata": {
        "id": "H6KBqRQFujfE"
      },
      "source": [
        ""
      ],
      "execution_count": null,
      "outputs": []
    }
  ]
}