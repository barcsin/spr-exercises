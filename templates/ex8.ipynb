{
  "nbformat": 4,
  "nbformat_minor": 0,
  "metadata": {
    "colab": {
      "name": "ex8(template).ipynb",
      "provenance": [],
      "collapsed_sections": []
    },
    "kernelspec": {
      "name": "python3",
      "display_name": "Python 3"
    },
    "language_info": {
      "name": "python"
    }
  },
  "cells": [
    {
      "cell_type": "code",
      "metadata": {
        "id": "buKTVLvmskeY"
      },
      "source": [
        "!pip install -U libsvm-official   # see https://github.com/cjlin1/libsvm/tree/master/python for other ways to install"
      ],
      "execution_count": null,
      "outputs": []
    },
    {
      "cell_type": "code",
      "metadata": {
        "id": "1Z8EhdodsMTM"
      },
      "source": [
        "import numpy as np\n",
        "import matplotlib.pyplot as plt\n",
        "from sklearn.model_selection import train_test_split\n",
        "from libsvm.svmutil import *"
      ],
      "execution_count": null,
      "outputs": []
    },
    {
      "cell_type": "markdown",
      "metadata": {
        "id": "_IzfIB_JsfQu"
      },
      "source": [
        "# $\\star$ Question 1:\n",
        "Load the data from dataset.npz and like in previous assignments split it evenly into a training set and a test set. \n",
        "\n",
        "Install libsvm for python, installation instructions can be found here https://github.com/cjlin1/libsvm/tree/master/python . Further documentation can be found on the main page http://www.csie.ntu.edu.tw/~cjlin/libsvm/ . Learn how to select kernels and how to deal with the multiclass case.\n",
        "\n",
        "Train the SVM with your training points and verify its performance on the test points. Start with a linear SVM and try an RBF kernel SVM later. How\n",
        "does the SVM compare to the classification methods in previous\n",
        "assignments? Visualize the results."
      ]
    },
    {
      "cell_type": "code",
      "metadata": {
        "id": "m2acu9PesfYh"
      },
      "source": [
        ""
      ],
      "execution_count": null,
      "outputs": []
    }
  ]
}