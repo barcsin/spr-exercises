{
 "cells": [
  {
   "cell_type": "code",
   "execution_count": null,
   "metadata": {},
   "outputs": [],
   "source": [
    "%matplotlib inline\n",
    "import numpy as np\n",
    "import matplotlib.pyplot as plt"
   ]
  },
  {
   "cell_type": "markdown",
   "metadata": {},
   "source": [
    "# Part 1: Matrix Inversion\n",
    "Define a matrix and a vector and compute the result of a matrix-vector multiplication.\n",
    "Invert the matrix."
   ]
  },
  {
   "cell_type": "code",
   "execution_count": null,
   "metadata": {},
   "outputs": [],
   "source": [
    "A = np.arange(0,9)+1\n",
    "A.shape = 3,3\n",
    "A[2,1] = 2\n",
    "\n",
    "v = np.arange(3)\n",
    "\n",
    "multiply = A @ v\n",
    "inverse = np.linalg.inv(A)\n",
    "                        \n",
    "print(multiply)\n",
    "print()\n",
    "print(inverse)"
   ]
  },
  {
   "cell_type": "markdown",
   "metadata": {},
   "source": [
    "# Part 2: Plotting\n",
    "\n",
    "### 1. Plot the guassian data"
   ]
  },
  {
   "cell_type": "code",
   "execution_count": null,
   "metadata": {},
   "outputs": [],
   "source": [
    "gaussian = np.load('data/gaussian.npz')['arr_0']\n",
    "plt.scatter(gaussian[:, 0], gaussian[:, 1])"
   ]
  },
  {
   "cell_type": "markdown",
   "metadata": {},
   "source": [
    "### 2. Plot the gaussianplus data"
   ]
  },
  {
   "cell_type": "code",
   "execution_count": null,
   "metadata": {},
   "outputs": [],
   "source": [
    "gaussian = np.load('data/gaussianplus.npz')['arr_0']\n",
    "plt.scatter(gaussian[:, 0], gaussian[:, 1])"
   ]
  }
 ],
 "metadata": {
  "kernelspec": {
   "display_name": "Python 3",
   "language": "python",
   "name": "python3"
  },
  "language_info": {
   "codemirror_mode": {
    "name": "ipython",
    "version": 3
   },
   "file_extension": ".py",
   "mimetype": "text/x-python",
   "name": "python",
   "nbconvert_exporter": "python",
   "pygments_lexer": "ipython3",
   "version": "3.7.3"
  }
 },
 "nbformat": 4,
 "nbformat_minor": 2
}
