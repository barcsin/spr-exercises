{
 "cells": [
  {
   "cell_type": "code",
   "execution_count": null,
   "metadata": {
    "id": "r6idE3XfxZxO"
   },
   "outputs": [],
   "source": [
    "import numpy as np\n",
    "import matplotlib.pyplot as plt\n",
    "from mpl_toolkits.mplot3d import Axes3D\n",
    "from sklearn.model_selection import train_test_split\n",
    "from sklearn.datasets import fetch_openml\n",
    "from sklearn.manifold import TSNE"
   ]
  },
  {
   "cell_type": "markdown",
   "metadata": {
    "id": "3oA1GA5CxiHX"
   },
   "source": [
    "# $\\star$ Question 1:\n",
    "Load the points from pca.npz and project them to a 1D subspace via PCA. \n",
    "\n",
    "Visualize the original points, the linear subspace, and the projected points.\n",
    "\n",
    "Compute the projection error."
   ]
  },
  {
   "cell_type": "code",
   "execution_count": null,
   "metadata": {
    "id": "BIYkHD6BxjKE"
   },
   "outputs": [],
   "source": [
    "# Load and visualize the data (as in previous exercises):\n",
    "X = np.load('../data/pca.npz')[\"arr_0\"]\n",
    "print(f\"Data has shape {X.shape}.\")\n",
    "plt.scatter(X[:,0], X[:,1])"
   ]
  },
  {
   "cell_type": "markdown",
   "metadata": {},
   "source": [
    "## Run PCA:"
   ]
  },
  {
   "cell_type": "code",
   "execution_count": null,
   "metadata": {
    "id": "QJR3Zmt3o0Kh"
   },
   "outputs": [],
   "source": [
    "def run_pca(X, d, return_y=False):\n",
    "    \"\"\"\n",
    "    Runs PCA to project input data to a lower-dimensional subspace and plots the results. \n",
    "    \n",
    "    Args:\n",
    "        X: Input data.\n",
    "        d: Dimensionality of the space to which the data should be projected.\n",
    "        return_y: Optional,reconstruct the original data (with an approximation error)\n",
    "    \"\"\"\n",
    "    # Compute the mean and covariance of the input data (using numpy). \n",
    "    # Center the data around 0 by subtracting the mean:\n",
    "    raise NotImplementedError\n",
    "    \n",
    "    # Compute the eigenvalues and eigenvectors of the covariance matrix (using numpy):\n",
    "    raise NotImplementedError\n",
    "\n",
    "    # Sort the eigenvalues and eigenvectors in descending order (using numpy argsort):\n",
    "    raise NotImplementedError\n",
    "    \n",
    "    # Select the d eigenvectors with the largest eigenvalues and use them to \n",
    "    # project the data to the subspace (slide 10, point 2.). \n",
    "    # Store the projected data in a variable called 'alpha':\n",
    "    raise NotImplementedError\n",
    "    \n",
    "    if return_y== True:\n",
    "        #  Reconstruct the data in the original space (slide 10, point 3.):\n",
    "        raise NotImplementedError\n",
    "        \n",
    "        # Compute and print the squared projection error (slide 9):\n",
    "        raise NotImplementedError\n",
    "        \n",
    "        return alpha , y\n",
    "    else:\n",
    "        return alpha"
   ]
  },
  {
   "cell_type": "code",
   "execution_count": null,
   "metadata": {
    "colab": {
     "base_uri": "https://localhost:8080/",
     "height": 547
    },
    "id": "HsH2g6ooKPRZ",
    "outputId": "7957148e-9277-4269-b4e1-2836867c8d5e"
   },
   "outputs": [],
   "source": [
    "# Run PCA and plot the original and reconstructed data: \n",
    "raise NotImplementedError"
   ]
  },
  {
   "cell_type": "markdown",
   "metadata": {
    "id": "dduBO4HrxjSV"
   },
   "source": [
    "# $\\star$ Question 2:\n",
    "Apply the t-SNE algorithm to the MNIST dataset. You do not need to\n",
    "implement it yourself, there is a standard sklearn function available.\n",
    "\n",
    "The data can be downloaded from http://yann.lecun.com/exdb/mnist/, however you can also use https://scikit-learn.org/stable/modules/generated/sklearn.datasets.fetch_openml.html to import it directly with the name 'mnist_784'\n",
    "\n",
    "Try both 2 and 3-dimensional visualization. Use the original images flattened into 1D vectors as high-dimensional features. \n",
    "\n",
    "Play around with the perplexity parameter and see how it affects the result.\n",
    "\n",
    "Apply PCA to the same data and compare the visualizations."
   ]
  },
  {
   "cell_type": "code",
   "execution_count": null,
   "metadata": {
    "id": "IePryN-Bxui_"
   },
   "outputs": [],
   "source": [
    "# Download the MNIST dataset. This can and take some time:\n",
    "mnist = fetch_openml('mnist_784')\n",
    "X = mnist.data / 255.0\n",
    "y = mnist.target\n",
    "print(X.shape)"
   ]
  },
  {
   "cell_type": "code",
   "execution_count": null,
   "metadata": {},
   "outputs": [],
   "source": [
    "# Apply T-SNE with a 2d embedding space to the MNIST data and plot the results.\n",
    "# Only apply T-SNE to a smaller subset of the data (which can be obtained for example via\n",
    "# the train_test_split function), as T-SNE is computationally expensive:\n",
    "def plot_2d(X, y):\n",
    "    raise NotImplementedError\n",
    "\n",
    "raise NotImplementedError  # apply T-SNE and then call plot_2d"
   ]
  },
  {
   "cell_type": "code",
   "execution_count": null,
   "metadata": {},
   "outputs": [],
   "source": [
    "# Run T-SNE with varying perplexity values:\n",
    "raise NotImplementedError"
   ]
  },
  {
   "cell_type": "code",
   "execution_count": null,
   "metadata": {},
   "outputs": [],
   "source": [
    "# Apply T-SNE with a 3d embedding space to the MNIST data and plot the results:\n",
    "def plot_3d(X, y):\n",
    "    raise NotImplementedError\n",
    "\n",
    "raise NotImplementedError  # apply T-SNE and then call plot_3d"
   ]
  },
  {
   "cell_type": "code",
   "execution_count": null,
   "metadata": {},
   "outputs": [],
   "source": [
    "# Apply PCA to the MNIST data.\n",
    "# Note that PCA is less computationally complex, so you can apply it to the full dataset:\n",
    "X_transformed = run_pca(X, 2)\n",
    "plot_2d(X_transformed, y)"
   ]
  },
  {
   "cell_type": "markdown",
   "metadata": {},
   "source": [
    "# Hints\n",
    "\n",
    "## Example output for Question 1\n",
    "\n",
    "![example output](ex9_example_output_01.png)\n",
    "\n",
    "\n",
    "## Example output for Question 2\n",
    "\n",
    "![example output](ex9_example_output_02.png)"
   ]
  }
 ],
 "metadata": {
  "colab": {
   "name": "ex9(template).ipynb",
   "provenance": []
  },
  "kernelspec": {
   "display_name": "Python 3 (ipykernel)",
   "language": "python",
   "name": "python3"
  },
  "language_info": {
   "codemirror_mode": {
    "name": "ipython",
    "version": 3
   },
   "file_extension": ".py",
   "mimetype": "text/x-python",
   "name": "python",
   "nbconvert_exporter": "python",
   "pygments_lexer": "ipython3",
   "version": "3.8.10"
  }
 },
 "nbformat": 4,
 "nbformat_minor": 1
}
