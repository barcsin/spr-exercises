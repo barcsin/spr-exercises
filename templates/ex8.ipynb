{
 "cells": [
  {
   "cell_type": "markdown",
   "metadata": {},
   "source": [
    "# Support Vector Machines\n"
   ]
  },
  {
   "cell_type": "code",
   "execution_count": null,
   "metadata": {
    "id": "1Z8EhdodsMTM"
   },
   "outputs": [],
   "source": [
    "import numpy as np\n",
    "import matplotlib.pyplot as plt\n",
    "from matplotlib.colors import ListedColormap\n",
    "from sklearn.model_selection import train_test_split\n",
    "from libsvm.svmutil import svm_problem, svm_parameter, svm_train, svm_predict"
   ]
  },
  {
   "cell_type": "markdown",
   "metadata": {
    "id": "_IzfIB_JsfQu"
   },
   "source": [
    "# $\\star$ Question 1:\n",
    "\n",
    "\n",
    "In this exercise, we will use the package `libsvm-official`.\n",
    "It should already be installed, since you installed all\n",
    "packages from the `requirements.txt` file. Installation and usage instructions can be found \n",
    "[here](https://github.com/cjlin1/libsvm/tree/master/python).\n",
    "Details on parameters can be found [here](https://github.com/cjlin1/libsvm).\n",
    "If you have problems installing it on Windows, make sure you are using python 3.8 (run `python -V`).\n",
    "Further documentation can be found on the \n",
    "[main page](http://www.csie.ntu.edu.tw/~cjlin/libsvm/).\n",
    "\n",
    "1. Load the data from dataset.npz and, like in previous assignments,\n",
    "split it evenly into a training set and a test set.\n",
    "Visualize the data, you can reuse parts of exercise 4 for this.\n",
    "2. Learn how to select kernels and how to deal with the multiclass case.\n",
    "Train the SVM with your training points and verify its performance on the test points.\n",
    "Start with a linear SVM and try an RBF kernel SVM later.\n",
    "How does the SVM compare to the classification methods in previous\n",
    "assignments?\n",
    "3. Visualize the results.\n",
    "    1. Plot the test predictions and mark wrong predictions with a black circle around them\n",
    "    (use `plt.scatter(..., marker=\"o\", ec=\"black\", fc=\"none\", s=200)` to get black circles)\n",
    "    1. Plot the training points and mark the support vectors by plotting them in a bigger size. Use `sv_indices = np.array(model.get_sv_indices()) - 1` to get the support vector indices. Note how svmlib starts counting at 1, so we need to subtract 1.\n",
    "    1. Create a contour plot as in exercise 4: \n",
    "    Create a meshgrid for the 2 input features, reshape and stack it,\n",
    "    predict it's labels using the trained SVM model and plot the contour.\n",
    "4. Play around with the hyperparameters. \n",
    "    Can you tune the hyperparameters to get even better results?\n",
    "\n",
    "Hints: libsvm expects the model parameters as a single string, e.g. `\"-t 2\"` for the RBF kernel and `\"-t 0\"` for the linear kernel. Use `-q` for quiet mode.\n"
   ]
  },
  {
   "attachments": {},
   "cell_type": "markdown",
   "metadata": {},
   "source": [
    "Example visualization for the RBF kernel:\n",
    "![ex8_example_output.jpg](ex8_example_output.jpg)"
   ]
  },
  {
   "cell_type": "code",
   "execution_count": null,
   "metadata": {
    "id": "m2acu9PesfYh"
   },
   "outputs": [],
   "source": []
  }
 ],
 "metadata": {
  "colab": {
   "collapsed_sections": [],
   "name": "ex8(template).ipynb",
   "provenance": []
  },
  "kernelspec": {
   "display_name": "Python 3 (ipykernel)",
   "language": "python",
   "name": "python3"
  },
  "language_info": {
   "codemirror_mode": {
    "name": "ipython",
    "version": 3
   },
   "file_extension": ".py",
   "mimetype": "text/x-python",
   "name": "python",
   "nbconvert_exporter": "python",
   "pygments_lexer": "ipython3",
   "version": "3.8.13"
  }
 },
 "nbformat": 4,
 "nbformat_minor": 1
}
