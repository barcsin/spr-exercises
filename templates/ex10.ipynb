{
 "cells": [
  {
   "cell_type": "code",
   "execution_count": null,
   "metadata": {
    "id": "_PNTOH04mUdS"
   },
   "outputs": [],
   "source": [
    "import numpy as np\n",
    "import matplotlib.pyplot as plt\n",
    "from PIL import Image"
   ]
  },
  {
   "cell_type": "markdown",
   "metadata": {
    "id": "zq1C8hbYmohH"
   },
   "source": [
    "# $\\star$ $\\star$ Question 1:\n",
    "Implement the message passing method in the disparity estimation setting. Each pixel can take 16 labels (disparities in the Tsukuba pair range from 0 to 15). \n",
    "\n",
    "\n",
    "For the unary cost take the exponential of the Euclidean distance between the pixel colors in the two images. For each pixel in the left image, you must compute 16 costs corresponding to the 16 disparity options. \n",
    "\n",
    "Consider the image as an undirected graph, where all pixels are connected only to their direct left and right neighbor. For the pairwise potential use the Potts model (0 cost if the disparity is the same, v else).\n",
    "\n",
    "Run the message passing algorithm to find the solution with the highest probability. Visualize this result and play with the parameter v"
   ]
  },
  {
   "cell_type": "markdown",
   "metadata": {},
   "source": [
    "# Visualize images"
   ]
  },
  {
   "cell_type": "code",
   "execution_count": null,
   "metadata": {
    "id": "YGUR5WCGmo7W"
   },
   "outputs": [],
   "source": [
    "imgL = np.array(Image.open(\"../data/tsukubaL.ppm\"))\n",
    "imgR = np.array(Image.open(\"../data/tsukubaR.ppm\")) "
   ]
  },
  {
   "cell_type": "markdown",
   "metadata": {},
   "source": [
    "# Helpers"
   ]
  },
  {
   "cell_type": "code",
   "execution_count": null,
   "metadata": {},
   "outputs": [],
   "source": [
    "MAX_DISP = 16 \n",
    "\n",
    "def shift_image_x(img, shift):\n",
    "    \"\"\" \n",
    "    shifts image in +ve x direction\n",
    "    assumes image has shape: h x w x c \n",
    "    \"\"\"\n",
    "    return np.roll(img, shift, axis=1)\n",
    "\n",
    "def data_term(im1, im2):\n",
    "    diff = np.linalg.norm(im1-im2, axis=-1)\n",
    "    exp_diff = np.exp(diff)\n",
    "    return exp_diff\n",
    "\n",
    "def compute_data_cost(imgL, imgR):\n",
    "    h,w,_ = imgL.shape\n",
    "    data_cost = np.zeros((h, w, MAX_DISP))\n",
    "\n",
    "    for d in range(MAX_DISP):\n",
    "        shifted_imgR = shift_image_x(imgR, d)\n",
    "        data_cost[:, :, d] = data_term(imgL, shifted_imgR)\n",
    "    return data_cost\n",
    "\n",
    "def compute_smoothness_cost(...):\n",
    "    #TODO\n",
    "\n",
    "def compute_msg_fwd(data_cost): \n",
    "    #TODO\n",
    "    \n",
    "def compute_msg_bwd(data_cost): \n",
    "    #TODO\n",
    "        \n",
    "def compute_disparity(imgL, imgR):\n",
    "    h,w,_ = imgL.shape\n",
    "    \n",
    "    data_cost = compute_data_cost(imgL, imgR)\n",
    "    smoothness_cost = compute_smoothness_cost(imgL, imgR)\n",
    "    \n",
    "    msg_fwd  = compute_msg_fwd(...)\n",
    "    msg_bwd  = compute_msg_bwd(...)\n",
    "    \n",
    "    #aggregate costs\n",
    "    belief = compute_belief(data_cost, smoothness_cost, msg_fwd, msg_bwd)\n",
    "    # extract disparites \n",
    "    \n",
    "    disparity = extract_disparity(belief)"
   ]
  },
  {
   "cell_type": "markdown",
   "metadata": {
    "id": "xQeXUqEempRO"
   },
   "source": [
    "# $\\star$ $\\star$ $\\star$ Question 2: \n",
    "\n",
    "Run loopy belief propagation after adding pairwise potentials to vertical neighbors.\n",
    "\n",
    "Visualize also intermediate results every few iterations. \n",
    "\n",
    "Does the process converge to a stable solution?"
   ]
  },
  {
   "cell_type": "code",
   "execution_count": null,
   "metadata": {
    "id": "H6KBqRQFujfE"
   },
   "outputs": [],
   "source": []
  }
 ],
 "metadata": {
  "colab": {
   "name": "ex10.ipynb",
   "provenance": []
  },
  "kernelspec": {
   "display_name": "Python 3",
   "language": "python",
   "name": "python3"
  },
  "language_info": {
   "name": "python"
  }
 },
 "nbformat": 4,
 "nbformat_minor": 4
}
