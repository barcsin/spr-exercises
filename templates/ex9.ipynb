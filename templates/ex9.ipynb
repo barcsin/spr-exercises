{
  "nbformat": 4,
  "nbformat_minor": 0,
  "metadata": {
    "colab": {
      "name": "ex9(template).ipynb",
      "provenance": []
    },
    "kernelspec": {
      "name": "python3",
      "display_name": "Python 3"
    },
    "language_info": {
      "name": "python"
    }
  },
  "cells": [
    {
      "cell_type": "code",
      "metadata": {
        "id": "r6idE3XfxZxO"
      },
      "source": [
        "import numpy as np\n",
        "import matplotlib.pyplot as plt\n",
        "from mpl_toolkits.mplot3d import Axes3D\n",
        "from sklearn.model_selection import train_test_split\n",
        "from sklearn.datasets import fetch_openml\n",
        "from sklearn.manifold import TSNE"
      ],
      "execution_count": null,
      "outputs": []
    },
    {
      "cell_type": "markdown",
      "metadata": {
        "id": "3oA1GA5CxiHX"
      },
      "source": [
        "# $\\star$ Question 1:\n",
        "Load the points from pca.mat and project them to a 1D subspace via PCA. \n",
        "\n",
        "Visualize the original points, the linear subspace, and the projected points.\n",
        "\n",
        "Compute the projection error."
      ]
    },
    {
      "cell_type": "code",
      "metadata": {
        "id": "BIYkHD6BxjKE"
      },
      "source": [
        ""
      ],
      "execution_count": null,
      "outputs": []
    },
    {
      "cell_type": "markdown",
      "metadata": {
        "id": "dduBO4HrxjSV"
      },
      "source": [
        "# $\\star$ Question 2:\n",
        "Apply the t-SNE algorithm to the MNIST dataset. You do not need to\n",
        "implement it yourself, there is a standard sklearn function available.\n",
        "\n",
        "The data can be downloaded from http://yann.lecun.com/exdb/mnist/, however you can also use https://scikit-learn.org/stable/modules/generated/sklearn.datasets.fetch_openml.html to import it directly with the name 'mnist_784'\n",
        "\n",
        "Try both 2 and 3-dimensional visualization. Use the original images flattened into 1D vectors as high-dimensional features. \n",
        "\n",
        "Play around with the perplexity parameter and see how it affects the result.\n",
        "\n",
        "Apply PCA to the same data and compare the visualizations."
      ]
    },
    {
      "cell_type": "code",
      "metadata": {
        "id": "IePryN-Bxui_"
      },
      "source": [
        ""
      ],
      "execution_count": null,
      "outputs": []
    }
  ]
}